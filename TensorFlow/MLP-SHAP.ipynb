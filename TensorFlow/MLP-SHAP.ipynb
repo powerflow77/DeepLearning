{
  "nbformat": 4,
  "nbformat_minor": 0,
  "metadata": {
    "colab": {
      "provenance": [],
      "toc_visible": true,
      "gpuType": "T4"
    },
    "kernelspec": {
      "name": "python3",
      "display_name": "Python 3"
    },
    "language_info": {
      "name": "python"
    },
    "accelerator": "GPU",
    "widgets": {
      "application/vnd.jupyter.widget-state+json": {
        "7d925f3e7c204b04b533b2b67b79db35": {
          "model_module": "@jupyter-widgets/controls",
          "model_name": "HBoxModel",
          "model_module_version": "1.5.0",
          "state": {
            "_dom_classes": [],
            "_model_module": "@jupyter-widgets/controls",
            "_model_module_version": "1.5.0",
            "_model_name": "HBoxModel",
            "_view_count": null,
            "_view_module": "@jupyter-widgets/controls",
            "_view_module_version": "1.5.0",
            "_view_name": "HBoxView",
            "box_style": "",
            "children": [
              "IPY_MODEL_f1e4beb8bee949fb9331015aba227678",
              "IPY_MODEL_e0db8b62bd82464ead222107d360721f",
              "IPY_MODEL_ea560cf3d4cb4820b155399fa74da719"
            ],
            "layout": "IPY_MODEL_c61698c878204f6a9e86bd98751b08a8"
          }
        },
        "f1e4beb8bee949fb9331015aba227678": {
          "model_module": "@jupyter-widgets/controls",
          "model_name": "HTMLModel",
          "model_module_version": "1.5.0",
          "state": {
            "_dom_classes": [],
            "_model_module": "@jupyter-widgets/controls",
            "_model_module_version": "1.5.0",
            "_model_name": "HTMLModel",
            "_view_count": null,
            "_view_module": "@jupyter-widgets/controls",
            "_view_module_version": "1.5.0",
            "_view_name": "HTMLView",
            "description": "",
            "description_tooltip": null,
            "layout": "IPY_MODEL_abf58bb221254ffd9059475547b4c0d6",
            "placeholder": "​",
            "style": "IPY_MODEL_05c2c1dee9bf4a69a3112e5416678d90",
            "value": "100%"
          }
        },
        "e0db8b62bd82464ead222107d360721f": {
          "model_module": "@jupyter-widgets/controls",
          "model_name": "FloatProgressModel",
          "model_module_version": "1.5.0",
          "state": {
            "_dom_classes": [],
            "_model_module": "@jupyter-widgets/controls",
            "_model_module_version": "1.5.0",
            "_model_name": "FloatProgressModel",
            "_view_count": null,
            "_view_module": "@jupyter-widgets/controls",
            "_view_module_version": "1.5.0",
            "_view_name": "ProgressView",
            "bar_style": "success",
            "description": "",
            "description_tooltip": null,
            "layout": "IPY_MODEL_e64464e8bad74aadab86f1a68d59b9b7",
            "max": 1,
            "min": 0,
            "orientation": "horizontal",
            "style": "IPY_MODEL_8ded04ac289e4492b3ebb2fd90191c39",
            "value": 1
          }
        },
        "ea560cf3d4cb4820b155399fa74da719": {
          "model_module": "@jupyter-widgets/controls",
          "model_name": "HTMLModel",
          "model_module_version": "1.5.0",
          "state": {
            "_dom_classes": [],
            "_model_module": "@jupyter-widgets/controls",
            "_model_module_version": "1.5.0",
            "_model_name": "HTMLModel",
            "_view_count": null,
            "_view_module": "@jupyter-widgets/controls",
            "_view_module_version": "1.5.0",
            "_view_name": "HTMLView",
            "description": "",
            "description_tooltip": null,
            "layout": "IPY_MODEL_6f1e83776f4542a7b12b79aa213c9941",
            "placeholder": "​",
            "style": "IPY_MODEL_a836b97f100a4430aa73dae24a7cec75",
            "value": " 1/1 [00:03&lt;00:00,  3.05s/it]"
          }
        },
        "c61698c878204f6a9e86bd98751b08a8": {
          "model_module": "@jupyter-widgets/base",
          "model_name": "LayoutModel",
          "model_module_version": "1.2.0",
          "state": {
            "_model_module": "@jupyter-widgets/base",
            "_model_module_version": "1.2.0",
            "_model_name": "LayoutModel",
            "_view_count": null,
            "_view_module": "@jupyter-widgets/base",
            "_view_module_version": "1.2.0",
            "_view_name": "LayoutView",
            "align_content": null,
            "align_items": null,
            "align_self": null,
            "border": null,
            "bottom": null,
            "display": null,
            "flex": null,
            "flex_flow": null,
            "grid_area": null,
            "grid_auto_columns": null,
            "grid_auto_flow": null,
            "grid_auto_rows": null,
            "grid_column": null,
            "grid_gap": null,
            "grid_row": null,
            "grid_template_areas": null,
            "grid_template_columns": null,
            "grid_template_rows": null,
            "height": null,
            "justify_content": null,
            "justify_items": null,
            "left": null,
            "margin": null,
            "max_height": null,
            "max_width": null,
            "min_height": null,
            "min_width": null,
            "object_fit": null,
            "object_position": null,
            "order": null,
            "overflow": null,
            "overflow_x": null,
            "overflow_y": null,
            "padding": null,
            "right": null,
            "top": null,
            "visibility": null,
            "width": null
          }
        },
        "abf58bb221254ffd9059475547b4c0d6": {
          "model_module": "@jupyter-widgets/base",
          "model_name": "LayoutModel",
          "model_module_version": "1.2.0",
          "state": {
            "_model_module": "@jupyter-widgets/base",
            "_model_module_version": "1.2.0",
            "_model_name": "LayoutModel",
            "_view_count": null,
            "_view_module": "@jupyter-widgets/base",
            "_view_module_version": "1.2.0",
            "_view_name": "LayoutView",
            "align_content": null,
            "align_items": null,
            "align_self": null,
            "border": null,
            "bottom": null,
            "display": null,
            "flex": null,
            "flex_flow": null,
            "grid_area": null,
            "grid_auto_columns": null,
            "grid_auto_flow": null,
            "grid_auto_rows": null,
            "grid_column": null,
            "grid_gap": null,
            "grid_row": null,
            "grid_template_areas": null,
            "grid_template_columns": null,
            "grid_template_rows": null,
            "height": null,
            "justify_content": null,
            "justify_items": null,
            "left": null,
            "margin": null,
            "max_height": null,
            "max_width": null,
            "min_height": null,
            "min_width": null,
            "object_fit": null,
            "object_position": null,
            "order": null,
            "overflow": null,
            "overflow_x": null,
            "overflow_y": null,
            "padding": null,
            "right": null,
            "top": null,
            "visibility": null,
            "width": null
          }
        },
        "05c2c1dee9bf4a69a3112e5416678d90": {
          "model_module": "@jupyter-widgets/controls",
          "model_name": "DescriptionStyleModel",
          "model_module_version": "1.5.0",
          "state": {
            "_model_module": "@jupyter-widgets/controls",
            "_model_module_version": "1.5.0",
            "_model_name": "DescriptionStyleModel",
            "_view_count": null,
            "_view_module": "@jupyter-widgets/base",
            "_view_module_version": "1.2.0",
            "_view_name": "StyleView",
            "description_width": ""
          }
        },
        "e64464e8bad74aadab86f1a68d59b9b7": {
          "model_module": "@jupyter-widgets/base",
          "model_name": "LayoutModel",
          "model_module_version": "1.2.0",
          "state": {
            "_model_module": "@jupyter-widgets/base",
            "_model_module_version": "1.2.0",
            "_model_name": "LayoutModel",
            "_view_count": null,
            "_view_module": "@jupyter-widgets/base",
            "_view_module_version": "1.2.0",
            "_view_name": "LayoutView",
            "align_content": null,
            "align_items": null,
            "align_self": null,
            "border": null,
            "bottom": null,
            "display": null,
            "flex": null,
            "flex_flow": null,
            "grid_area": null,
            "grid_auto_columns": null,
            "grid_auto_flow": null,
            "grid_auto_rows": null,
            "grid_column": null,
            "grid_gap": null,
            "grid_row": null,
            "grid_template_areas": null,
            "grid_template_columns": null,
            "grid_template_rows": null,
            "height": null,
            "justify_content": null,
            "justify_items": null,
            "left": null,
            "margin": null,
            "max_height": null,
            "max_width": null,
            "min_height": null,
            "min_width": null,
            "object_fit": null,
            "object_position": null,
            "order": null,
            "overflow": null,
            "overflow_x": null,
            "overflow_y": null,
            "padding": null,
            "right": null,
            "top": null,
            "visibility": null,
            "width": null
          }
        },
        "8ded04ac289e4492b3ebb2fd90191c39": {
          "model_module": "@jupyter-widgets/controls",
          "model_name": "ProgressStyleModel",
          "model_module_version": "1.5.0",
          "state": {
            "_model_module": "@jupyter-widgets/controls",
            "_model_module_version": "1.5.0",
            "_model_name": "ProgressStyleModel",
            "_view_count": null,
            "_view_module": "@jupyter-widgets/base",
            "_view_module_version": "1.2.0",
            "_view_name": "StyleView",
            "bar_color": null,
            "description_width": ""
          }
        },
        "6f1e83776f4542a7b12b79aa213c9941": {
          "model_module": "@jupyter-widgets/base",
          "model_name": "LayoutModel",
          "model_module_version": "1.2.0",
          "state": {
            "_model_module": "@jupyter-widgets/base",
            "_model_module_version": "1.2.0",
            "_model_name": "LayoutModel",
            "_view_count": null,
            "_view_module": "@jupyter-widgets/base",
            "_view_module_version": "1.2.0",
            "_view_name": "LayoutView",
            "align_content": null,
            "align_items": null,
            "align_self": null,
            "border": null,
            "bottom": null,
            "display": null,
            "flex": null,
            "flex_flow": null,
            "grid_area": null,
            "grid_auto_columns": null,
            "grid_auto_flow": null,
            "grid_auto_rows": null,
            "grid_column": null,
            "grid_gap": null,
            "grid_row": null,
            "grid_template_areas": null,
            "grid_template_columns": null,
            "grid_template_rows": null,
            "height": null,
            "justify_content": null,
            "justify_items": null,
            "left": null,
            "margin": null,
            "max_height": null,
            "max_width": null,
            "min_height": null,
            "min_width": null,
            "object_fit": null,
            "object_position": null,
            "order": null,
            "overflow": null,
            "overflow_x": null,
            "overflow_y": null,
            "padding": null,
            "right": null,
            "top": null,
            "visibility": null,
            "width": null
          }
        },
        "a836b97f100a4430aa73dae24a7cec75": {
          "model_module": "@jupyter-widgets/controls",
          "model_name": "DescriptionStyleModel",
          "model_module_version": "1.5.0",
          "state": {
            "_model_module": "@jupyter-widgets/controls",
            "_model_module_version": "1.5.0",
            "_model_name": "DescriptionStyleModel",
            "_view_count": null,
            "_view_module": "@jupyter-widgets/base",
            "_view_module_version": "1.2.0",
            "_view_name": "StyleView",
            "description_width": ""
          }
        }
      }
    }
  },
  "cells": [
    {
      "cell_type": "code",
      "execution_count": 49,
      "metadata": {
        "id": "aNxu8xIee_Wn"
      },
      "outputs": [],
      "source": [
        "import os\n",
        "import numpy as np\n",
        "import pandas as pd\n",
        "import matplotlib.pyplot as plt\n",
        "plt.style.use('seaborn-v0_8-whitegrid')\n",
        "from sklearn.preprocessing import MinMaxScaler\n",
        "from sklearn.model_selection import train_test_split # regression에서는 사용 편함.\n",
        "\n",
        "import tensorflow as tf\n",
        "from tensorflow import keras\n",
        "from tensorflow.keras import optimizers, Model, layers\n",
        "\n",
        "SEED = 511\n",
        "np.random.seed(SEED)\n",
        "\n",
        "os.environ[\"CUDA_VISIBLE_DEVICES\"]=\"0\""
      ]
    },
    {
      "cell_type": "code",
      "source": [
        "num_data = 3000\n",
        "x1 = np.random.rand(num_data)\n",
        "x2 = np.random.rand(num_data)\n",
        "x3 = np.random.rand(num_data)\n",
        "x4 = np.random.rand(num_data)\n",
        "\n",
        "X = np.array([x1, x2, x3, x4]).T\n",
        "y = x1 + x2**2 + 10*x3 + np.log(x4)\n",
        "y = y.reshape(-1, 1)\n",
        "\n",
        "print(X.shape)\n",
        "print(y.shape)"
      ],
      "metadata": {
        "colab": {
          "base_uri": "https://localhost:8080/"
        },
        "id": "pKNNueGPuMhB",
        "outputId": "f53c19e6-2854-421b-ff21-c3a08ee2f2b5"
      },
      "execution_count": 50,
      "outputs": [
        {
          "output_type": "stream",
          "name": "stdout",
          "text": [
            "(3000, 4)\n",
            "(3000, 1)\n"
          ]
        }
      ]
    },
    {
      "cell_type": "code",
      "source": [
        "xscaler = MinMaxScaler()\n",
        "yscaler = MinMaxScaler()\n",
        "\n",
        "xscaler.fit(X)\n",
        "scaled_x = xscaler.transform(X)\n",
        "\n",
        "yscaler.fit(y)\n",
        "scaled_y = yscaler.transform(y)\n",
        "\n",
        "xtrain, xtest, ytrain, ytest = train_test_split(X, y, test_size=0.2, random_state=SEED)\n",
        "xtrain = tf.constant(xtrain, dtype=tf.float32)\n",
        "xtest = tf.constant(xtest, dtype=tf.float32)\n",
        "ytrain = tf.constant(ytrain, dtype=tf.float32)\n",
        "ytest = tf.constant(ytest, dtype=tf.float32)"
      ],
      "metadata": {
        "id": "sW2l99fejkhN"
      },
      "execution_count": 51,
      "outputs": []
    },
    {
      "cell_type": "code",
      "source": [
        "train_dataset = tf.data.Dataset.from_tensor_slices((xtrain, ytrain))\n",
        "train_dataset = train_dataset.shuffle(buffer_size=len(xtrain), seed=SEED).batch(batch_size=64)\n",
        "\n",
        "test_dataset = tf.data.Dataset.from_tensor_slices((xtest, ytest))\n",
        "test_dataset = test_dataset.shuffle(buffer_size=len(ytrain), seed=SEED).batch(batch_size=64)"
      ],
      "metadata": {
        "id": "wHOcR-ILoeFo"
      },
      "execution_count": 52,
      "outputs": []
    },
    {
      "cell_type": "code",
      "source": [
        "class ANN(Model):\n",
        "    def __init__(self,):\n",
        "        super(ANN, self).__init__()\n",
        "        self.fc1 = layers.Dense(units=64, input_dim=xtrain.shape[1], activation=tf.nn.gelu)\n",
        "        self.dropout1 = layers.Dropout(0.5)\n",
        "        self.fc2 = layers.Dense(units=64, activation=tf.nn.gelu)\n",
        "        self.dropout2 = layers.Dropout(0.5)\n",
        "        self.out = layers.Dense(units=ytrain.shape[1], activation=None)\n",
        "\n",
        "    def call(self, x, is_training=False):\n",
        "        x = self.fc1(x)\n",
        "        if is_training:\n",
        "            x = self.dropout1(x)\n",
        "        x = self.fc2(x)\n",
        "        if is_training:\n",
        "            x = self.dropout2(x)\n",
        "        x = self.out(x)\n",
        "        return x"
      ],
      "metadata": {
        "id": "lCApkHc4o8TX"
      },
      "execution_count": 53,
      "outputs": []
    },
    {
      "cell_type": "code",
      "source": [
        "loss_fn = keras.losses.MeanSquaredError()\n",
        "\n",
        "optimizer = optimizers.Adam(learning_rate=0.001)\n",
        "\n",
        "model = ANN()"
      ],
      "metadata": {
        "id": "eIMF_94_qno8"
      },
      "execution_count": 54,
      "outputs": []
    },
    {
      "cell_type": "code",
      "source": [
        "losslist = []\n",
        "\n",
        "with tf.device('/GPU:0'):\n",
        "    for epoch in range(1, 800+1):\n",
        "        total_loss = 0.0\n",
        "        num_batches = int(0)\n",
        "\n",
        "        for x, y_true in train_dataset:\n",
        "            with tf.GradientTape() as tape:\n",
        "                y_pred = model(x, is_training=True)\n",
        "                loss = loss_fn(y_true, y_pred)\n",
        "                total_loss += loss\n",
        "\n",
        "            gradients = tape.gradient(loss, model.trainable_variables)\n",
        "            optimizer.apply_gradients(zip(gradients, model.trainable_variables))\n",
        "            num_batches += 1\n",
        "\n",
        "        losslist.append( total_loss/num_batches )\n",
        "\n",
        "        if epoch % 50 == 0:\n",
        "            print(f\"[Epoch]: {epoch}/800,  [Loss]: {np.round(total_loss / num_batches, 3)}\")"
      ],
      "metadata": {
        "colab": {
          "base_uri": "https://localhost:8080/"
        },
        "id": "CzDREBnYqiCk",
        "outputId": "806a1a08-c4bb-4f79-8190-6d50d498f7c3"
      },
      "execution_count": 55,
      "outputs": [
        {
          "output_type": "stream",
          "name": "stdout",
          "text": [
            "[Epoch]: 50/800,  [Loss]: 0.0989999994635582\n",
            "[Epoch]: 100/800,  [Loss]: 0.03099999949336052\n",
            "[Epoch]: 150/800,  [Loss]: 0.019999999552965164\n",
            "[Epoch]: 200/800,  [Loss]: 0.013000000268220901\n",
            "[Epoch]: 250/800,  [Loss]: 0.008999999612569809\n",
            "[Epoch]: 300/800,  [Loss]: 0.007000000216066837\n",
            "[Epoch]: 350/800,  [Loss]: 0.006000000052154064\n",
            "[Epoch]: 400/800,  [Loss]: 0.004000000189989805\n",
            "[Epoch]: 450/800,  [Loss]: 0.006000000052154064\n",
            "[Epoch]: 500/800,  [Loss]: 0.004000000189989805\n",
            "[Epoch]: 550/800,  [Loss]: 0.004000000189989805\n",
            "[Epoch]: 600/800,  [Loss]: 0.003000000026077032\n",
            "[Epoch]: 650/800,  [Loss]: 0.003000000026077032\n",
            "[Epoch]: 700/800,  [Loss]: 0.003000000026077032\n",
            "[Epoch]: 750/800,  [Loss]: 0.0020000000949949026\n",
            "[Epoch]: 800/800,  [Loss]: 0.0020000000949949026\n"
          ]
        }
      ]
    },
    {
      "cell_type": "code",
      "source": [
        "total_loss = 0.0\n",
        "num_batches = 0\n",
        "predlist= []\n",
        "\n",
        "for x, y_true in test_dataset:\n",
        "    y_pred = model(x, is_training=False)  # 평가 모드에서는 is_training=False\n",
        "    loss = loss_fn(y_true, y_pred)\n",
        "    total_loss += loss\n",
        "    num_batches += 1\n",
        "    predlist += y_pred.numpy().ravel().tolist()\n",
        "\n",
        "avg_loss = np.round(total_loss / num_batches, 4)\n",
        "print(f'[Avg_Loss]: {avg_loss}')"
      ],
      "metadata": {
        "colab": {
          "base_uri": "https://localhost:8080/"
        },
        "id": "L1mzpRjtsSAK",
        "outputId": "ab3d82e0-603d-4881-c539-62cec09815f1"
      },
      "execution_count": 56,
      "outputs": [
        {
          "output_type": "stream",
          "name": "stdout",
          "text": [
            "[Avg_Loss]: 0.025299999862909317\n"
          ]
        }
      ]
    },
    {
      "cell_type": "code",
      "source": [
        "!pip install shap"
      ],
      "metadata": {
        "colab": {
          "base_uri": "https://localhost:8080/"
        },
        "id": "TRlL8vSVfGH1",
        "outputId": "7ab40dce-579e-44c6-c422-009f8c5d1b4d"
      },
      "execution_count": 57,
      "outputs": [
        {
          "output_type": "stream",
          "name": "stdout",
          "text": [
            "Requirement already satisfied: shap in /usr/local/lib/python3.10/dist-packages (0.44.0)\n",
            "Requirement already satisfied: numpy in /usr/local/lib/python3.10/dist-packages (from shap) (1.23.5)\n",
            "Requirement already satisfied: scipy in /usr/local/lib/python3.10/dist-packages (from shap) (1.11.4)\n",
            "Requirement already satisfied: scikit-learn in /usr/local/lib/python3.10/dist-packages (from shap) (1.2.2)\n",
            "Requirement already satisfied: pandas in /usr/local/lib/python3.10/dist-packages (from shap) (1.5.3)\n",
            "Requirement already satisfied: tqdm>=4.27.0 in /usr/local/lib/python3.10/dist-packages (from shap) (4.66.1)\n",
            "Requirement already satisfied: packaging>20.9 in /usr/local/lib/python3.10/dist-packages (from shap) (23.2)\n",
            "Requirement already satisfied: slicer==0.0.7 in /usr/local/lib/python3.10/dist-packages (from shap) (0.0.7)\n",
            "Requirement already satisfied: numba in /usr/local/lib/python3.10/dist-packages (from shap) (0.58.1)\n",
            "Requirement already satisfied: cloudpickle in /usr/local/lib/python3.10/dist-packages (from shap) (2.2.1)\n",
            "Requirement already satisfied: llvmlite<0.42,>=0.41.0dev0 in /usr/local/lib/python3.10/dist-packages (from numba->shap) (0.41.1)\n",
            "Requirement already satisfied: python-dateutil>=2.8.1 in /usr/local/lib/python3.10/dist-packages (from pandas->shap) (2.8.2)\n",
            "Requirement already satisfied: pytz>=2020.1 in /usr/local/lib/python3.10/dist-packages (from pandas->shap) (2023.3.post1)\n",
            "Requirement already satisfied: joblib>=1.1.1 in /usr/local/lib/python3.10/dist-packages (from scikit-learn->shap) (1.3.2)\n",
            "Requirement already satisfied: threadpoolctl>=2.0.0 in /usr/local/lib/python3.10/dist-packages (from scikit-learn->shap) (3.2.0)\n",
            "Requirement already satisfied: six>=1.5 in /usr/local/lib/python3.10/dist-packages (from python-dateutil>=2.8.1->pandas->shap) (1.16.0)\n"
          ]
        }
      ]
    },
    {
      "cell_type": "code",
      "source": [
        "xtrain.shape"
      ],
      "metadata": {
        "colab": {
          "base_uri": "https://localhost:8080/"
        },
        "id": "HoAznIAb3H4_",
        "outputId": "ee25d84a-6e0e-4e66-9a2d-d3a140756fe1"
      },
      "execution_count": 58,
      "outputs": [
        {
          "output_type": "execute_result",
          "data": {
            "text/plain": [
              "TensorShape([2400, 4])"
            ]
          },
          "metadata": {},
          "execution_count": 58
        }
      ]
    },
    {
      "cell_type": "code",
      "source": [
        "import shap\n",
        "\n",
        "explainer = shap.KernelExplainer(model.predict, xtrain.numpy()[0, :].reshape(1,-1))"
      ],
      "metadata": {
        "colab": {
          "base_uri": "https://localhost:8080/"
        },
        "id": "B0LDj9TK2z2o",
        "outputId": "8c4094a1-cd51-4d7b-f557-bcc8cbfe3d62"
      },
      "execution_count": 59,
      "outputs": [
        {
          "output_type": "stream",
          "name": "stdout",
          "text": [
            "1/1 [==============================] - 0s 62ms/step\n"
          ]
        }
      ]
    },
    {
      "cell_type": "code",
      "source": [
        "import shap\n",
        "\n",
        "explainer = shap.KernelExplainer(model.predict, xtrain.numpy())\n",
        "shap_values = explainer.shap_values(xtest.numpy()[0, :].reshape(1, -1))\n",
        "print(shap_values)"
      ],
      "metadata": {
        "colab": {
          "base_uri": "https://localhost:8080/",
          "height": 136,
          "referenced_widgets": [
            "7d925f3e7c204b04b533b2b67b79db35",
            "f1e4beb8bee949fb9331015aba227678",
            "e0db8b62bd82464ead222107d360721f",
            "ea560cf3d4cb4820b155399fa74da719",
            "c61698c878204f6a9e86bd98751b08a8",
            "abf58bb221254ffd9059475547b4c0d6",
            "05c2c1dee9bf4a69a3112e5416678d90",
            "e64464e8bad74aadab86f1a68d59b9b7",
            "8ded04ac289e4492b3ebb2fd90191c39",
            "6f1e83776f4542a7b12b79aa213c9941",
            "a836b97f100a4430aa73dae24a7cec75"
          ]
        },
        "id": "zT7TKmI3z0hi",
        "outputId": "028bc36c-2dcf-4892-cb53-5963c8805796"
      },
      "execution_count": 60,
      "outputs": [
        {
          "output_type": "stream",
          "name": "stdout",
          "text": [
            "75/75 [==============================] - 0s 2ms/step\n"
          ]
        },
        {
          "output_type": "stream",
          "name": "stderr",
          "text": [
            "WARNING:shap:Using 2400 background data samples could cause slower run times. Consider using shap.sample(data, K) or shap.kmeans(data, K) to summarize the background as K samples.\n"
          ]
        },
        {
          "output_type": "display_data",
          "data": {
            "text/plain": [
              "  0%|          | 0/1 [00:00<?, ?it/s]"
            ],
            "application/vnd.jupyter.widget-view+json": {
              "version_major": 2,
              "version_minor": 0,
              "model_id": "7d925f3e7c204b04b533b2b67b79db35"
            }
          },
          "metadata": {}
        },
        {
          "output_type": "stream",
          "name": "stdout",
          "text": [
            "1/1 [==============================] - 0s 17ms/step\n",
            "1050/1050 [==============================] - 2s 2ms/step\n",
            "[array([[ 0.15055604,  0.22827641, -4.31357572,  0.26003256]])]\n"
          ]
        }
      ]
    },
    {
      "cell_type": "code",
      "source": [
        "kane = tf.constant( xtest[0, :].numpy().reshape(1, -1) )\n",
        "model(kane, is_training=False)"
      ],
      "metadata": {
        "colab": {
          "base_uri": "https://localhost:8080/"
        },
        "id": "XBH870fM1Dg6",
        "outputId": "6cb396e9-3824-46c0-8a08-23cc7b7bc6c1"
      },
      "execution_count": 61,
      "outputs": [
        {
          "output_type": "execute_result",
          "data": {
            "text/plain": [
              "<tf.Tensor: shape=(1, 1), dtype=float32, numpy=array([[1.0369656]], dtype=float32)>"
            ]
          },
          "metadata": {},
          "execution_count": 61
        }
      ]
    },
    {
      "cell_type": "code",
      "source": [
        "shap.summary_plot(shap_values, kane, feature_names=['x1', 'x2', 'x3', 'x4'])\n"
      ],
      "metadata": {
        "colab": {
          "base_uri": "https://localhost:8080/",
          "height": 317
        },
        "id": "n5rLGJCrfGBO",
        "outputId": "8ed1482b-afa2-4409-a7f5-70989858cb00"
      },
      "execution_count": 62,
      "outputs": [
        {
          "output_type": "display_data",
          "data": {
            "text/plain": [
              "<Figure size 800x310 with 1 Axes>"
            ],
            "image/png": "[encoded data removed]"
          },
          "metadata": {}
        }
      ]
    },
    {
      "cell_type": "code",
      "source": [],
      "metadata": {
        "id": "uCdAP5Q-13_4"
      },
      "execution_count": 62,
      "outputs": []
    }
  ]
}