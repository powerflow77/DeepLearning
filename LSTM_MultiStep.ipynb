{
 "cells": [
  {
   "cell_type": "markdown",
   "metadata": {},
   "source": [
    "## __Start__\n",
    "- multi-step 예측\n"
   ]
  },
  {
   "cell_type": "code",
   "execution_count": 357,
   "metadata": {},
   "outputs": [],
   "source": [
    "import numpy as np\n",
    "import pandas as pd\n",
    "import matplotlib.pyplot as plt\n",
    "plt.style.use('seaborn-whitegrid')\n",
    "from sklearn.preprocessing import MinMaxScaler    \n",
    "from sklearn.model_selection import train_test_split\n",
    "\n",
    "import torch\n",
    "import torch.nn as nn\n",
    "import torch.optim as optim\n",
    "from torch.utils.data import TensorDataset, DataLoader"
   ]
  },
  {
   "cell_type": "code",
   "execution_count": 358,
   "metadata": {},
   "outputs": [],
   "source": [
    "seed = 511\n",
    "torch.manual_seed(seed)\n",
    "np.random.seed(seed)\n",
    "\n",
    "# Hyperparameter\n",
    "BATSIZE = 32"
   ]
  },
  {
   "cell_type": "markdown",
   "metadata": {},
   "source": [
    "## __GPU__"
   ]
  },
  {
   "cell_type": "code",
   "execution_count": 359,
   "metadata": {},
   "outputs": [
    {
     "name": "stdout",
     "output_type": "stream",
     "text": [
      "============================================================================================\n",
      "Device set to : NVIDIA GeForce GTX 1050 Ti\n",
      "============================================================================================\n"
     ]
    }
   ],
   "source": [
    "print(\"============================================================================================\")\n",
    "# set device to cpu or cuda\n",
    "device = torch.device('cpu')\n",
    "if(torch.cuda.is_available()):\n",
    "    device = torch.device('cuda:0') \n",
    "    torch.cuda.empty_cache()\n",
    "    print(\"Device set to : \" + str(torch.cuda.get_device_name(device)))\n",
    "else:\n",
    "    print(\"Device set to : cpu\")\n",
    "print(\"============================================================================================\")"
   ]
  },
  {
   "cell_type": "markdown",
   "metadata": {},
   "source": [
    "## __Load Data__"
   ]
  },
  {
   "cell_type": "code",
   "execution_count": 360,
   "metadata": {},
   "outputs": [
    {
     "data": {
      "text/html": [
       "<div>\n",
       "<style scoped>\n",
       "    .dataframe tbody tr th:only-of-type {\n",
       "        vertical-align: middle;\n",
       "    }\n",
       "\n",
       "    .dataframe tbody tr th {\n",
       "        vertical-align: top;\n",
       "    }\n",
       "\n",
       "    .dataframe thead th {\n",
       "        text-align: right;\n",
       "    }\n",
       "</style>\n",
       "<table border=\"1\" class=\"dataframe\">\n",
       "  <thead>\n",
       "    <tr style=\"text-align: right;\">\n",
       "      <th></th>\n",
       "      <th>solar irradience(invalid)</th>\n",
       "      <th>wind speed</th>\n",
       "      <th>wind direction</th>\n",
       "      <th>ambient temperature</th>\n",
       "      <th>pressure</th>\n",
       "      <th>humidity</th>\n",
       "      <th>solar irradience</th>\n",
       "      <th>PV power output</th>\n",
       "    </tr>\n",
       "  </thead>\n",
       "  <tbody>\n",
       "    <tr>\n",
       "      <th>0</th>\n",
       "      <td>-1.0</td>\n",
       "      <td>-0.320896</td>\n",
       "      <td>-0.066011</td>\n",
       "      <td>-0.024088</td>\n",
       "      <td>-0.614618</td>\n",
       "      <td>-0.059871</td>\n",
       "      <td>0.0</td>\n",
       "      <td>0.0</td>\n",
       "    </tr>\n",
       "  </tbody>\n",
       "</table>\n",
       "</div>"
      ],
      "text/plain": [
       "   solar irradience(invalid)  wind speed  wind direction  ambient temperature  \\\n",
       "0                       -1.0   -0.320896       -0.066011            -0.024088   \n",
       "\n",
       "   pressure  humidity  solar irradience  PV power output  \n",
       "0 -0.614618 -0.059871               0.0              0.0  "
      ]
     },
     "execution_count": 360,
     "metadata": {},
     "output_type": "execute_result"
    }
   ],
   "source": [
    "df = pd.read_excel('C:/Users/user/Desktop/DeepLearning-main/DeepLearning-main/pv_data.xlsx')\n",
    "df = df.iloc[:, 1:]\n",
    "\n",
    "df.head(1)"
   ]
  },
  {
   "cell_type": "markdown",
   "metadata": {},
   "source": [
    "## __Preprocessing__"
   ]
  },
  {
   "cell_type": "code",
   "execution_count": 361,
   "metadata": {},
   "outputs": [],
   "source": [
    "X = df.iloc[:, 1:-1].values\n",
    "Y = df.iloc[:, -1].values.reshape(-1, 1)\n",
    "\n",
    "xtrain, xtest, ytrain, ytest = train_test_split(X, Y, test_size=0.2, random_state=seed, shuffle=False)"
   ]
  },
  {
   "cell_type": "code",
   "execution_count": 362,
   "metadata": {},
   "outputs": [],
   "source": [
    "xscaler = MinMaxScaler()\n",
    "yscaler = MinMaxScaler()\n",
    "\n",
    "# fit: xtrain을 기준으로 변환하겠다.\n",
    "# transform: ㄹㅇ로 변환 그 자체만 수행.\n",
    "# fit_transform(kane): kane을 기준으로, 그리고 찐으로 변환 수행.\n",
    "xscaler.fit(xtrain)\n",
    "scaled_xtrain = xscaler.transform(xtrain)\n",
    "scaled_xtest = xscaler.transform(xtest)\n",
    "\n",
    "yscaler.fit(ytrain)\n",
    "scaled_ytrain = yscaler.transform(ytrain)\n",
    "scaled_ytest = yscaler.transform(ytest)"
   ]
  },
  {
   "cell_type": "code",
   "execution_count": 363,
   "metadata": {},
   "outputs": [],
   "source": [
    "def seq_data(x, y, xseq_len, yseq_len):  # e.g. N=100, in=5, out=3\n",
    "\n",
    "    xseqlist = []\n",
    "    yseqlist = []\n",
    "    it = (len(x) - xseq_len) // yseq_len # 몫\n",
    "\n",
    "    for i in range(it):\n",
    "        xseqlist.append(x[i*yseq_len: i*yseq_len + xseq_len])\n",
    "        yseqlist.append(y[xseq_len + i*yseq_len: xseq_len + i*yseq_len + yseq_len])\n",
    "        # e.g.\n",
    "        # x[0*3: 0*3 + 5]        =x[0:5],     x[1*3: 1*3 + 5]        =x[3:8] \n",
    "        # y[5 + 0*3: 5 + 0*3 + 3]=y[5:8],     y[5 + 1*3: 5 + 1*3 + 3]=y[8:11]\n",
    "        #\n",
    "        # x[92:97]\n",
    "        # y[97:100]\n",
    "\n",
    "    xxx = torch.tensor(np.array(xseqlist), dtype=torch.float32).to(device)\n",
    "    yyy = torch.tensor(np.array(yseqlist), dtype=torch.float32).to(device)\n",
    "\n",
    "    return xxx, yyy"
   ]
  },
  {
   "cell_type": "code",
   "execution_count": 364,
   "metadata": {},
   "outputs": [
    {
     "name": "stdout",
     "output_type": "stream",
     "text": [
      "xtrain_seq:   torch.Size([2177, 168, 6])\n",
      "ytrain_seq:   torch.Size([2177, 24, 1])\n",
      "\n",
      "xtest_seq:    torch.Size([539, 168, 6])\n",
      "ytest_seq:    torch.Size([539, 24, 1])\n"
     ]
    }
   ],
   "source": [
    "xseq_len = 24*7\n",
    "yseq_len = 24*1\n",
    "\n",
    "xtrain_seq, ytrain_seq = seq_data(x=scaled_xtrain, y=scaled_ytrain, xseq_len=xseq_len, yseq_len=yseq_len)\n",
    "xtest_seq, ytest_seq = seq_data(x=scaled_xtest, y=scaled_ytest, xseq_len=xseq_len, yseq_len=yseq_len)\n",
    "\n",
    "print(f'xtrain_seq:   {xtrain_seq.shape}')\n",
    "print(f'ytrain_seq:   {ytrain_seq.shape}')\n",
    "print()\n",
    "print(f'xtest_seq:    {xtest_seq.shape}')\n",
    "print(f'ytest_seq:    {ytest_seq.shape}')"
   ]
  },
  {
   "cell_type": "markdown",
   "metadata": {},
   "source": [
    "## __Loader__"
   ]
  },
  {
   "cell_type": "code",
   "execution_count": 365,
   "metadata": {},
   "outputs": [],
   "source": [
    "# sequential data라 모든 epoch에서 같은 패턴만 보게 됨.,\n",
    "# 모델이 시계열의 순서 그 자체를 학습하게 될 우려가 있음. ----> shuffle=True\n",
    "trainset = TensorDataset(xtrain_seq, ytrain_seq)\n",
    "trainloader = DataLoader(trainset, batch_size=BATSIZE, shuffle=True)\n",
    "\n",
    "# Validation과 Test는 말 그대로 평가의 의미가 있으므로 \n",
    "# 같은 패턴을 유지해야 비교할 수 있음. ----> shuffle=False\n",
    "testset = TensorDataset(xtest_seq, ytest_seq)\n",
    "testloader = DataLoader(testset, batch_size=BATSIZE, shuffle=False)"
   ]
  },
  {
   "cell_type": "code",
   "execution_count": 366,
   "metadata": {},
   "outputs": [
    {
     "name": "stdout",
     "output_type": "stream",
     "text": [
      "torch.Size([32, 168, 6])\n",
      "torch.Size([32, 24, 1])\n"
     ]
    }
   ],
   "source": [
    "for i in trainloader:\n",
    "    print(i[0].shape)\n",
    "    print(i[1].shape)\n",
    "    break"
   ]
  },
  {
   "cell_type": "markdown",
   "metadata": {},
   "source": [
    "## shuffle 예시\n",
    "- input과 label pair만 항상 붙어다님.\n",
    "- 하나의 batch 구성은 계속 바뀜."
   ]
  },
  {
   "cell_type": "code",
   "execution_count": 367,
   "metadata": {},
   "outputs": [
    {
     "name": "stdout",
     "output_type": "stream",
     "text": [
      "[tensor([[4.],\n",
      "        [1.]]), tensor([[800.],\n",
      "        [200.]])]\n",
      "[tensor([[2.],\n",
      "        [3.]]), tensor([[400.],\n",
      "        [600.]])]\n",
      "[tensor([[0.],\n",
      "        [5.]]), tensor([[   0.],\n",
      "        [1000.]])]\n",
      "\n",
      "[tensor([[0.],\n",
      "        [1.]]), tensor([[  0.],\n",
      "        [200.]])]\n",
      "[tensor([[2.],\n",
      "        [3.]]), tensor([[400.],\n",
      "        [600.]])]\n",
      "[tensor([[4.],\n",
      "        [5.]]), tensor([[ 800.],\n",
      "        [1000.]])]\n"
     ]
    }
   ],
   "source": [
    "x = torch.arange(6).view(-1, 1).float()  # feature: 0부터 4까지의 숫자\n",
    "y = x * 200\n",
    "dataset = TensorDataset(x, y)\n",
    "\n",
    "dataloader_shuffle = DataLoader(dataset, batch_size=2, shuffle=True)\n",
    "dataloader_no_shuffle = DataLoader(dataset, batch_size=2, shuffle=False)\n",
    "\n",
    "for i in dataloader_shuffle:\n",
    "    print(i)\n",
    "#-------------------------------\n",
    "print()\n",
    "for i in dataloader_no_shuffle:\n",
    "    print(i)"
   ]
  },
  {
   "cell_type": "markdown",
   "metadata": {},
   "source": [
    "## __Model__\n",
    "> self.lstm.flatten_parameters()\n",
    "- lstm의 파라미터들이 GPU 상에서 메모리에 분산 배치되는 것을 방지.(한 곳에 모아줌.)\n"
   ]
  },
  {
   "cell_type": "code",
   "execution_count": 368,
   "metadata": {},
   "outputs": [],
   "source": [
    "# out, (hn, cn) = self.lstm\n",
    "# out: containing the output features (h_t) from the last layer of the LSTM, for each t.\n",
    "# hn:  containing the final hidden state for each element in the sequence.\n",
    "# cn:  containing the final cell state for each element in the sequence.\n",
    "# 출처 - 파이토치 공식 문서\n",
    "\n",
    "class LSTMModel(nn.Module):\n",
    "    def __init__(self, input_len, hidden_len, seq_len, num_layers, output_len):\n",
    "        super(LSTMModel, self).__init__()\n",
    "        self.input_len = input_len\n",
    "        self.hidden_len = hidden_len\n",
    "        self.seq_len = seq_len\n",
    "        self.num_layers = num_layers\n",
    "        self.output_len = output_len\n",
    "        self.lstm = nn.LSTM(self.input_len, self.hidden_len, self.num_layers, batch_first=True, dropout=0.3) # model.eval() 사용 시 Dropout은 자동 해제됨.\n",
    "        self.linear = nn.Linear(self.hidden_len*self.seq_len, self.output_len)\n",
    "        self.relu = nn.ReLU()\n",
    "\n",
    "    def forward(self, x):\n",
    "        self.lstm.flatten_parameters()\n",
    "        # x:  (64, 24*7, 6) ----> feature 6개가 하나로 7일치를 묶음. 64개 샘플.\n",
    "        h0 = torch.zeros((self.num_layers, x.shape[0], self.hidden_len)).to(device) \n",
    "        c0 = torch.zeros((self.num_layers, x.shape[0], self.hidden_len)).to(device)\n",
    "        # h0: (2, 64, 8) ----> hidden 8개를 64개 샘플에 대해, two layer로.\n",
    "        # c0: (2, 64, 8) ----> hidden 8개를 64개 샘플에 대해, two layer로.\n",
    "        out, (hn, cn) = self.lstm(x, (h0,c0)) \n",
    "        # out: (64, 24*7, 8) ----> 각각들이 hidden을 8개씩 출력했고 각 시간 단위마다 출력함.\n",
    "        #                                                입력 시퀀스의 각 타임스텝에 대응되는 출력을 내보냄.\n",
    "        out = out.reshape(out.shape[0], -1)\n",
    "        # out: (64, 24*7*8)   ----> 쭉 펼친 거임.\n",
    "        out = self.linear(out) \n",
    "        # out: (64, 24)    ----> 7일치 보고 하루를 예측.\n",
    "        out = self.relu(out)\n",
    "        # out: (64, 24)\n",
    "        out = out.reshape(out.shape[0], out.shape[1], 1)\n",
    "\n",
    "        return out"
   ]
  },
  {
   "cell_type": "code",
   "execution_count": 369,
   "metadata": {},
   "outputs": [],
   "source": [
    "model = LSTMModel(input_len=xtrain_seq.shape[2], hidden_len=8, seq_len=xtrain_seq.shape[1],\\\n",
    "                num_layers=2, output_len=ytrain_seq.shape[1]).to(device)\n",
    "\n",
    "criterion = nn.MSELoss().to(device)\n",
    "optimizer = optim.Adam(model.parameters(), lr=1e-3)"
   ]
  },
  {
   "cell_type": "code",
   "execution_count": 371,
   "metadata": {},
   "outputs": [
    {
     "name": "stdout",
     "output_type": "stream",
     "text": [
      "[epoch: 100] loss: 0.0191\n",
      "[epoch: 200] loss: 0.0139\n",
      "[epoch: 300] loss: 0.0122\n",
      "[epoch: 400] loss: 0.0114\n",
      "[epoch: 500] loss: 0.0109\n",
      "[epoch: 600] loss: 0.0102\n",
      "[epoch: 700] loss: 0.0095\n",
      "[epoch: 800] loss: 0.0093\n",
      "[epoch: 900] loss: 0.0083\n"
     ]
    }
   ],
   "source": [
    "loss_graph = []\n",
    "n = len(trainloader)\n",
    "\n",
    "for epoch in range(1, 900+1):\n",
    "    running_loss = 0.0\n",
    "    \n",
    "    for x_true, y_true in trainloader:\n",
    "        # x_true: (64, 24*7, 6)\n",
    "        # y_true: (64, 24, 1)\n",
    "        y_pred = model(x_true) \n",
    "        # y_pred: (64, 24, 1)\n",
    "        loss = criterion(y_pred, y_true)\n",
    "        \n",
    "        optimizer.zero_grad()\n",
    "        loss.backward()\n",
    "        optimizer.step()\n",
    "        running_loss += loss.item()\n",
    "    \n",
    "    loss_graph.append(running_loss/n)\n",
    "    if epoch % 100 == 0:\n",
    "        print('[epoch: %d] loss: %.4f' %(epoch, running_loss/n))"
   ]
  },
  {
   "cell_type": "markdown",
   "metadata": {},
   "source": [
    "## __Training Curve__"
   ]
  },
  {
   "cell_type": "code",
   "execution_count": 372,
   "metadata": {},
   "outputs": [
    {
     "data": {
      "image/png": "[encoded data removed]",
      "text/plain": [
       "<Figure size 864x432 with 1 Axes>"
      ]
     },
     "metadata": {},
     "output_type": "display_data"
    }
   ],
   "source": [
    "plt.figure(figsize=(12,6))\n",
    "plt.plot(loss_graph)\n",
    "plt.show() "
   ]
  },
  {
   "cell_type": "markdown",
   "metadata": {},
   "source": [
    "## __Test__"
   ]
  },
  {
   "cell_type": "code",
   "execution_count": null,
   "metadata": {},
   "outputs": [],
   "source": []
  },
  {
   "cell_type": "code",
   "execution_count": null,
   "metadata": {},
   "outputs": [],
   "source": []
  },
  {
   "cell_type": "code",
   "execution_count": null,
   "metadata": {},
   "outputs": [],
   "source": []
  },
  {
   "cell_type": "code",
   "execution_count": null,
   "metadata": {},
   "outputs": [],
   "source": []
  },
  {
   "cell_type": "code",
   "execution_count": null,
   "metadata": {},
   "outputs": [],
   "source": []
  },
  {
   "cell_type": "markdown",
   "metadata": {},
   "source": [
    "## __End__"
   ]
  }
 ],
 "metadata": {
  "kernelspec": {
   "display_name": "base",
   "language": "python",
   "name": "python3"
  },
  "language_info": {
   "codemirror_mode": {
    "name": "ipython",
    "version": 3
   },
   "file_extension": ".py",
   "mimetype": "text/x-python",
   "name": "python",
   "nbconvert_exporter": "python",
   "pygments_lexer": "ipython3",
   "version": "3.9.7"
  }
 },
 "nbformat": 4,
 "nbformat_minor": 2
}
